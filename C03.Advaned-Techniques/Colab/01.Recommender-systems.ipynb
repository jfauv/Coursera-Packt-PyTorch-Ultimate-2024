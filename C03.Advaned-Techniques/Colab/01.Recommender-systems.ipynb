{
  "nbformat": 4,
  "nbformat_minor": 0,
  "metadata": {
    "colab": {
      "provenance": []
    },
    "kernelspec": {
      "name": "python3",
      "display_name": "Python 3"
    },
    "language_info": {
      "name": "python"
    }
  },
  "cells": [
    {
      "cell_type": "code",
      "execution_count": 1,
      "metadata": {
        "id": "JiRojYK83isk"
      },
      "outputs": [],
      "source": [
        "import pandas as pd\n",
        "from sklearn import model_selection, preprocessing\n",
        "import torch\n",
        "import torch.nn as nn\n",
        "from torch.utils.data import Dataset, DataLoader\n",
        "from collections import defaultdict\n",
        "from sklearn.metrics import mean_squared_error"
      ]
    },
    {
      "cell_type": "code",
      "source": [
        "#%% data import\n",
        "df = pd.read_csv(\"ratings.csv\")\n",
        "df.head(2)\n",
        "\n",
        "print(f\"Unique Users: {df.userId.nunique()}, Unique Movies: {df.movieId.nunique()}\")"
      ],
      "metadata": {
        "colab": {
          "base_uri": "https://localhost:8080/"
        },
        "id": "PQlof5x03jrl",
        "outputId": "fe071823-4ce5-4f30-a067-617880e165a3"
      },
      "execution_count": 3,
      "outputs": [
        {
          "output_type": "stream",
          "name": "stdout",
          "text": [
            "Unique Users: 610, Unique Movies: 9724\n"
          ]
        }
      ]
    },
    {
      "cell_type": "code",
      "source": [
        "#%% Data Class\n",
        "class MovieDataset(Dataset):\n",
        "    def __init__(self, users, movies, ratings):\n",
        "        self.users = users\n",
        "        self.movies = movies\n",
        "        self.ratings = ratings\n",
        "    # len(movie_dataset)\n",
        "    def __len__(self):\n",
        "        return len(self.users)\n",
        "\n",
        "    def __getitem__(self, idx):\n",
        "        users = self.users[idx]\n",
        "        movies = self.movies[idx]\n",
        "        ratings = self.ratings[idx]\n",
        "\n",
        "        return torch.tensor(users, dtype=torch.long), torch.tensor(movies, dtype=torch.long),torch.tensor(ratings, dtype=torch.long),"
      ],
      "metadata": {
        "id": "y4r1EBoH3juF"
      },
      "execution_count": 4,
      "outputs": []
    },
    {
      "cell_type": "code",
      "source": [
        "#%% Model Class\n",
        "class RecSysModel(nn.Module):\n",
        "    def __init__(self, n_users, n_movies, n_embeddings = 32):\n",
        "        super().__init__()\n",
        "        self.user_embed = nn.Embedding(n_users, n_embeddings)\n",
        "        self.movie_embed = nn.Embedding(n_movies, n_embeddings)\n",
        "        self.out = nn.Linear(n_embeddings * 2, 1)\n",
        "\n",
        "    def forward(self, users, movies):\n",
        "        user_embeds = self.user_embed(users)\n",
        "        movie_embeds = self.movie_embed(movies)\n",
        "        x = torch.cat([user_embeds, movie_embeds], dim=1)\n",
        "        x = self.out(x)\n",
        "        return x"
      ],
      "metadata": {
        "id": "bILvehSP3jwU"
      },
      "execution_count": 6,
      "outputs": []
    },
    {
      "cell_type": "code",
      "source": [
        "#%% encode user and movie id to start from 0\n",
        "lbl_user = preprocessing.LabelEncoder()\n",
        "lbl_movie = preprocessing.LabelEncoder()\n",
        "df.userId = lbl_user.fit_transform(df.userId.values)\n",
        "df.movieId = lbl_movie.fit_transform(df.movieId.values)"
      ],
      "metadata": {
        "id": "q_OIIV6H3jys"
      },
      "execution_count": 7,
      "outputs": []
    },
    {
      "cell_type": "code",
      "source": [
        "#%% create train test split\n",
        "df_train, df_test = model_selection.train_test_split(\n",
        "    df, test_size=0.2, random_state=42, stratify=df.rating.values)"
      ],
      "metadata": {
        "id": "3K6wCn323j3c"
      },
      "execution_count": 8,
      "outputs": []
    },
    {
      "cell_type": "code",
      "source": [
        "#%% Dataset Instances\n",
        "train_dataset = MovieDataset(\n",
        "    users=df_train.userId.values,\n",
        "    movies=df_train.movieId.values,\n",
        "    ratings=df_train.rating.values\n",
        ")\n",
        "\n",
        "valid_dataset = MovieDataset(\n",
        "    users=df_test.userId.values,\n",
        "    movies=df_test.movieId.values,\n",
        "    ratings=df_test.rating.values\n",
        ")"
      ],
      "metadata": {
        "id": "T7R_05V_3j9m"
      },
      "execution_count": 9,
      "outputs": []
    },
    {
      "cell_type": "code",
      "source": [
        "#%% Data Loaders\n",
        "BATCH_SIZE = 4\n",
        "train_loader = DataLoader(dataset=train_dataset,\n",
        "                          batch_size=BATCH_SIZE,\n",
        "                          shuffle=True\n",
        "                          )\n",
        "\n",
        "test_loader = DataLoader(dataset=valid_dataset,\n",
        "                          batch_size=BATCH_SIZE,\n",
        "                          shuffle=True\n",
        "                          )"
      ],
      "metadata": {
        "id": "7TY44raq3kA_"
      },
      "execution_count": 10,
      "outputs": []
    },
    {
      "cell_type": "code",
      "source": [
        "#%% Model Instance, Optimizer, and Loss Function\n",
        "model = RecSysModel(\n",
        "    n_users=len(lbl_user.classes_),\n",
        "    n_movies=len(lbl_movie.classes_))\n",
        "\n",
        "optimizer = torch.optim.Adam(model.parameters())\n",
        "criterion = nn.MSELoss()"
      ],
      "metadata": {
        "id": "gzmjk0-M3kDl"
      },
      "execution_count": 11,
      "outputs": []
    },
    {
      "cell_type": "code",
      "source": [
        "#%% Model Training\n",
        "NUM_EPOCHS = 1\n",
        "\n",
        "model.train()\n",
        "for epoch_i in range(NUM_EPOCHS):\n",
        "    for users, movies, ratings in train_loader:\n",
        "        optimizer.zero_grad()\n",
        "        y_pred = model(users,\n",
        "                       movies)\n",
        "        y_true = ratings.unsqueeze(dim=1).to(torch.float32)\n",
        "        loss = criterion(y_pred, y_true)\n",
        "        loss.backward()\n",
        "        optimizer.step()"
      ],
      "metadata": {
        "id": "dyoI__9t3kGb"
      },
      "execution_count": 12,
      "outputs": []
    },
    {
      "cell_type": "code",
      "source": [
        "#%% Model Evaluation\n",
        "y_preds = []\n",
        "y_trues = []\n",
        "\n",
        "model.eval()\n",
        "with torch.no_grad():\n",
        "    for users, movies, ratings in test_loader:\n",
        "        y_true = ratings.detach().numpy().tolist()\n",
        "        y_pred = model(users, movies).squeeze().detach().numpy().tolist()\n",
        "        y_trues.append(y_true)\n",
        "        y_preds.append(y_pred)\n",
        "\n",
        "mse = mean_squared_error(y_trues, y_preds)\n",
        "print(f\"Mean Squared Error: {mse}\")"
      ],
      "metadata": {
        "colab": {
          "base_uri": "https://localhost:8080/"
        },
        "id": "w6ldNEGp3kIy",
        "outputId": "2de79f5a-9949-4c4a-eab2-b477dd199732"
      },
      "execution_count": 13,
      "outputs": [
        {
          "output_type": "stream",
          "name": "stdout",
          "text": [
            "Mean Squared Error: 0.9164341531951026\n"
          ]
        }
      ]
    },
    {
      "cell_type": "code",
      "source": [
        "#%% Users and Items\n",
        "user_movie_test = defaultdict(list)\n",
        "\n",
        "with torch.no_grad():\n",
        "    for users, movies, ratings in test_loader:\n",
        "        y_pred = model(users, movies)\n",
        "        for i in range(len(users)):\n",
        "            user_id = users[i].item()\n",
        "            movie_id = movies[i].item()\n",
        "            pred_rating = y_pred[i][0].item()\n",
        "            true_rating = ratings[i].item()\n",
        "\n",
        "            print(f\"User: {user_id}, Movie: {movie_id}, Pred: {pred_rating}, True: {true_rating}\")\n",
        "            user_movie_test[user_id].append((pred_rating, true_rating))"
      ],
      "metadata": {
        "collapsed": true,
        "id": "omycwXU54kl-"
      },
      "execution_count": null,
      "outputs": []
    },
    {
      "cell_type": "code",
      "source": [
        "#%% Precision and Recall\n",
        "precisions = {}\n",
        "recalls = {}\n",
        "\n",
        "k = 10\n",
        "thres = 3.5\n",
        "\n",
        "for uid, user_ratings in user_movie_test.items():\n",
        "    # Sort user ratings by rating\n",
        "    user_ratings.sort(key=lambda x: x[0], reverse=True)\n",
        "\n",
        "    # count of relevant items\n",
        "    n_rel = sum((rating_true >= thres) for (_, rating_true) in user_ratings)\n",
        "\n",
        "    # count recommended items that are predicted relevent and within topk\n",
        "    n_rec_k = sum((rating_pred >= thres) for (rating_pred, _) in user_ratings[:k])\n",
        "\n",
        "    # count recommended AND relevant item\n",
        "    n_rel_and_rec_k = sum(\n",
        "        ((rating_true >= thres) and (rating_pred >= thres))\n",
        "        for (rating_pred, rating_true) in user_ratings[:k]\n",
        "    )\n",
        "\n",
        "    print(f\"uid {uid},  n_rel {n_rel}, n_rec_k {n_rec_k}, n_rel_and_rec_k {n_rel_and_rec_k}\")\n",
        "    precisions[uid] = n_rel_and_rec_k / n_rec_k if n_rec_k != 0 else 0\n",
        "    recalls[uid] = n_rel_and_rec_k / n_rel if n_rel != 0 else 0\n",
        "\n",
        "print(f\"Precision @ {k}: {sum(precisions.values()) / len(precisions)}\")\n",
        "print(f\"Recall @ {k} : {sum(recalls.values()) / len(recalls)}\")"
      ],
      "metadata": {
        "id": "jFU4e4iT4kwT"
      },
      "execution_count": null,
      "outputs": []
    }
  ]
}